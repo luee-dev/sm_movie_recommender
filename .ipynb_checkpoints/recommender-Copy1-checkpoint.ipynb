{
 "cells": [
  {
   "cell_type": "code",
   "execution_count": null,
   "id": "189c5966-967a-4c9f-98f8-b65372a6df18",
   "metadata": {},
   "outputs": [],
   "source": [
    "# importing dependencies"
   ]
  },
  {
   "cell_type": "code",
   "execution_count": null,
   "id": "aabbb527-249a-48e7-903b-33c81fd2e2c0",
   "metadata": {},
   "outputs": [],
   "source": [
    "import numpy as np\n",
    "import pandas as pd\n",
    "import matplotlib.pyplot as plt\n",
    "import seaborn as sns"
   ]
  },
  {
   "cell_type": "code",
   "execution_count": null,
   "id": "22e33fcf-d1ee-417e-8abd-443d18ff5980",
   "metadata": {},
   "outputs": [],
   "source": [
    "# step 2: Load Data"
   ]
  },
  {
   "cell_type": "code",
   "execution_count": null,
   "id": "2e259569-2606-4970-a9a2-8d0ad541fae1",
   "metadata": {},
   "outputs": [],
   "source": [
    "ratings = pd.read_csv(\"./data/ratings.csv\")\n",
    "movies = pd.read_csv(\"./data/movies.csv\")"
   ]
  },
  {
   "cell_type": "code",
   "execution_count": null,
   "id": "d42b53d7-d5c7-45a2-a49f-9cd6d93ae856",
   "metadata": {},
   "outputs": [],
   "source": [
    "# step 3: Exploratory Data Analysis"
   ]
  },
  {
   "cell_type": "code",
   "execution_count": null,
   "id": "bde6ac6d-e570-47c8-ad21-672b7c0d1321",
   "metadata": {},
   "outputs": [],
   "source": [
    "n_ratings = len(ratings)\n",
    "n_movies = ratings[\"movieId\"].nunique()\n",
    "n_users = ratings[\"userId\"].nunique()"
   ]
  },
  {
   "cell_type": "code",
   "execution_count": null,
   "id": "6e791be0-ff7c-4ffe-b755-07765b8ac774",
   "metadata": {},
   "outputs": [
    {
     "name": "stdout",
     "output_type": "stream",
     "text": [
      "Number of ratings: 25000095\n",
      "Number of unique movieId's: 59047\n",
      "Number of unique users: 162541\n",
      "Average number of ratings per user: 153.81\n",
      "Average number of ratings per movie: 423.39\n"
     ]
    }
   ],
   "source": [
    "print(f\"Number of ratings: {n_ratings}\")\n",
    "print(f\"Number of unique movieId's: {n_movies}\")\n",
    "print(f\"Number of unique users: {n_users}\")\n",
    "print(f\"Average number of ratings per user: {round(n_ratings/n_users, 2)}\")\n",
    "print(f\"Average number of ratings per movie: {round(n_ratings/n_movies, 2)}\")"
   ]
  },
  {
   "cell_type": "code",
   "execution_count": null,
   "id": "b932b48d-ff8e-48c3-9090-ab9ff2892b82",
   "metadata": {},
   "outputs": [],
   "source": [
    "# What is the distribution of movie ratings?"
   ]
  },
  {
   "cell_type": "code",
   "execution_count": null,
   "id": "f5b64b03-8b3a-4397-8b12-c23e511fba75",
   "metadata": {},
   "outputs": [
    {
     "data": {
      "image/png": "[encoded data removed]",
      "text/plain": [
       "<Figure size 1000x600 with 1 Axes>"
      ]
     },
     "metadata": {},
     "output_type": "display_data"
    }
   ],
   "source": [
    "plt.figure(figsize=(10, 6))\n",
    "sns.countplot(x=\"rating\", data=ratings)\n",
    "plt.title(\"Rating Distributions\")\n",
    "plt.xlabel(\"Rating\")\n",
    "plt.ylabel(\"Count\")\n",
    "plt.show()"
   ]
  },
  {
   "cell_type": "code",
   "execution_count": null,
   "id": "58d323c9-4d9f-4d95-a2ac-a3d16e87fc07",
   "metadata": {},
   "outputs": [
    {
     "name": "stdout",
     "output_type": "stream",
     "text": [
      "Mean Global rating 3.53\n"
     ]
    }
   ],
   "source": [
    "print(f\"Mean Global rating {round(ratings['rating'].mean(), 2)}\")"
   ]
  },
  {
   "cell_type": "code",
   "execution_count": null,
   "id": "dd001545-0924-48dd-8122-3a04117e9c6a",
   "metadata": {},
   "outputs": [
    {
     "name": "stdout",
     "output_type": "stream",
     "text": [
      "Mean rating per user: 3.68\n"
     ]
    }
   ],
   "source": [
    "mean_ratings = ratings.groupby(\"userId\")[\"rating\"].mean()\n",
    "print(f\"Mean rating per user: {round(mean_ratings.mean(), 2)}\")"
   ]
  },
  {
   "cell_type": "code",
   "execution_count": null,
   "id": "99f3f8dc-a2ae-4a2a-beb1-93a2dc370e70",
   "metadata": {},
   "outputs": [],
   "source": [
    "# Which movies are most frequently rated"
   ]
  },
  {
   "cell_type": "code",
   "execution_count": null,
   "id": "2b366589-8aae-4d0b-8799-644f6b47b1fa",
   "metadata": {},
   "outputs": [
    {
     "data": {
      "text/plain": [
       "title\n",
       "Forrest Gump (1994)                          81491\n",
       "Shawshank Redemption, The (1994)             81482\n",
       "Pulp Fiction (1994)                          79672\n",
       "Silence of the Lambs, The (1991)             74127\n",
       "Matrix, The (1999)                           72674\n",
       "Star Wars: Episode IV - A New Hope (1977)    68717\n",
       "Jurassic Park (1993)                         64144\n",
       "Schindler's List (1993)                      60411\n",
       "Braveheart (1995)                            59184\n",
       "Fight Club (1999)                            58773\n",
       "Name: count, dtype: int64"
      ]
     },
     "execution_count": 13,
     "metadata": {},
     "output_type": "execute_result"
    }
   ],
   "source": [
    "movie_ratings = ratings.merge(movies, on=\"movieId\")\n",
    "movie_ratings[\"title\"].value_counts()[:10]"
   ]
  },
  {
   "cell_type": "code",
   "execution_count": null,
   "id": "efc6b6c8-b5ed-42d8-9f7c-d9d6f2d1f438",
   "metadata": {},
   "outputs": [],
   "source": [
    "# the most rated movies are:\n",
    "# Forest Gump, Shawshank Redemption, Pulp Fiction, Silence of the Lambs, Matrix"
   ]
  },
  {
   "cell_type": "code",
   "execution_count": null,
   "id": "2d7b3a82-8797-4abe-b7c0-6c8368639daa",
   "metadata": {},
   "outputs": [],
   "source": [
    "# What are the lowest and highest rated movies"
   ]
  },
  {
   "cell_type": "code",
   "execution_count": null,
   "id": "b39a4980-9070-43a8-9882-fb6292a57021",
   "metadata": {},
   "outputs": [],
   "source": [
    "# Which movie has the lowest and highest average rating?"
   ]
  },
  {
   "cell_type": "code",
   "execution_count": null,
   "id": "3b42e013-0cbd-4166-84df-dcaf679477cf",
   "metadata": {},
   "outputs": [
    {
     "data": {
      "text/html": [
       "<div>\n",
       "<style scoped>\n",
       "    .dataframe tbody tr th:only-of-type {\n",
       "        vertical-align: middle;\n",
       "    }\n",
       "\n",
       "    .dataframe tbody tr th {\n",
       "        vertical-align: top;\n",
       "    }\n",
       "\n",
       "    .dataframe thead th {\n",
       "        text-align: right;\n",
       "    }\n",
       "</style>\n",
       "<table border=\"1\" class=\"dataframe\">\n",
       "  <thead>\n",
       "    <tr style=\"text-align: right;\">\n",
       "      <th></th>\n",
       "      <th>movieId</th>\n",
       "      <th>title</th>\n",
       "      <th>genres</th>\n",
       "    </tr>\n",
       "  </thead>\n",
       "  <tbody>\n",
       "    <tr>\n",
       "      <th>5693</th>\n",
       "      <td>5805</td>\n",
       "      <td>Besotted (2001)</td>\n",
       "      <td>Drama</td>\n",
       "    </tr>\n",
       "  </tbody>\n",
       "</table>\n",
       "</div>"
      ],
      "text/plain": [
       "      movieId            title genres\n",
       "5693     5805  Besotted (2001)  Drama"
      ]
     },
     "execution_count": 17,
     "metadata": {},
     "output_type": "execute_result"
    }
   ],
   "source": [
    "mean_ratings = ratings.groupby(\"movieId\")[[\"rating\"]].mean()\n",
    "lowest_rated = mean_ratings[\"rating\"].idxmin()\n",
    "\n",
    "movies[movies[\"movieId\"] == lowest_rated]"
   ]
  },
  {
   "cell_type": "code",
   "execution_count": null,
   "id": "0565cf6e-d15c-4f96-aa22-b77673742745",
   "metadata": {},
   "outputs": [],
   "source": [
    "# Besotted(2001) Drama has the lowest rating"
   ]
  },
  {
   "cell_type": "code",
   "execution_count": null,
   "id": "9c72f9d4-d0de-43f1-9de1-3c3f5d40069c",
   "metadata": {},
   "outputs": [
    {
     "data": {
      "text/html": [
       "<div>\n",
       "<style scoped>\n",
       "    .dataframe tbody tr th:only-of-type {\n",
       "        vertical-align: middle;\n",
       "    }\n",
       "\n",
       "    .dataframe tbody tr th {\n",
       "        vertical-align: top;\n",
       "    }\n",
       "\n",
       "    .dataframe thead th {\n",
       "        text-align: right;\n",
       "    }\n",
       "</style>\n",
       "<table border=\"1\" class=\"dataframe\">\n",
       "  <thead>\n",
       "    <tr style=\"text-align: right;\">\n",
       "      <th></th>\n",
       "      <th>movieId</th>\n",
       "      <th>title</th>\n",
       "      <th>genres</th>\n",
       "    </tr>\n",
       "  </thead>\n",
       "  <tbody>\n",
       "    <tr>\n",
       "      <th>9416</th>\n",
       "      <td>27914</td>\n",
       "      <td>Hijacking Catastrophe: 9/11, Fear &amp; the Sellin...</td>\n",
       "      <td>Documentary</td>\n",
       "    </tr>\n",
       "  </tbody>\n",
       "</table>\n",
       "</div>"
      ],
      "text/plain": [
       "      movieId                                              title       genres\n",
       "9416    27914  Hijacking Catastrophe: 9/11, Fear & the Sellin...  Documentary"
      ]
     },
     "execution_count": 22,
     "metadata": {},
     "output_type": "execute_result"
    }
   ],
   "source": [
    "highest_rated = mean_ratings['rating'].idxmax()\n",
    "movies[movies['movieId'] == highest_rated]"
   ]
  },
  {
   "cell_type": "code",
   "execution_count": null,
   "id": "9d8ae579-2d35-46f5-bf8e-f2a8dedcc201",
   "metadata": {},
   "outputs": [],
   "source": [
    "# Hijacking Catastrophe:9/11 has the highest rating"
   ]
  },
  {
   "cell_type": "code",
   "execution_count": null,
   "id": "ed27c4c6-c797-4299-8b33-f3f52d6cffaa",
   "metadata": {},
   "outputs": [],
   "source": [
    "# How many ratings does Lamerica have?"
   ]
  },
  {
   "cell_type": "code",
   "execution_count": null,
   "id": "c39c93e6-9d11-4dd5-8f4c-0a596243d03b",
   "metadata": {},
   "outputs": [
    {
     "data": {
      "text/html": [
       "<div>\n",
       "<style scoped>\n",
       "    .dataframe tbody tr th:only-of-type {\n",
       "        vertical-align: middle;\n",
       "    }\n",
       "\n",
       "    .dataframe tbody tr th {\n",
       "        vertical-align: top;\n",
       "    }\n",
       "\n",
       "    .dataframe thead th {\n",
       "        text-align: right;\n",
       "    }\n",
       "</style>\n",
       "<table border=\"1\" class=\"dataframe\">\n",
       "  <thead>\n",
       "    <tr style=\"text-align: right;\">\n",
       "      <th></th>\n",
       "      <th>userId</th>\n",
       "      <th>movieId</th>\n",
       "      <th>rating</th>\n",
       "      <th>timestamp</th>\n",
       "    </tr>\n",
       "  </thead>\n",
       "  <tbody>\n",
       "    <tr>\n",
       "      <th>19328266</th>\n",
       "      <td>125475</td>\n",
       "      <td>27914</td>\n",
       "      <td>5.0</td>\n",
       "      <td>1409649085</td>\n",
       "    </tr>\n",
       "  </tbody>\n",
       "</table>\n",
       "</div>"
      ],
      "text/plain": [
       "          userId  movieId  rating   timestamp\n",
       "19328266  125475    27914     5.0  1409649085"
      ]
     },
     "execution_count": 26,
     "metadata": {},
     "output_type": "execute_result"
    }
   ],
   "source": [
    "ratings[ratings['movieId']==highest_rated]"
   ]
  },
  {
   "cell_type": "code",
   "execution_count": null,
   "id": "48792db5-1455-4e8f-a654-0f0298d0456a",
   "metadata": {},
   "outputs": [],
   "source": [
    "# may be the \"lowest\" rated movie, but it only has 2 votes"
   ]
  },
  {
   "cell_type": "code",
   "execution_count": null,
   "id": "09340d4d-d517-48c2-952f-cbba05dbfe77",
   "metadata": {},
   "outputs": [],
   "source": [
    "# A better approach for evaluating movie popularity it to do look at the Bayesian Average"
   ]
  },
  {
   "cell_type": "code",
   "execution_count": null,
   "id": "07446558-9167-499e-a0ae-0c3fc508d069",
   "metadata": {},
   "outputs": [],
   "source": [
    "# Bayesian Average"
   ]
  },
  {
   "cell_type": "code",
   "execution_count": null,
   "id": "192deb95-24f5-467a-9035-fc8124ab9ff0",
   "metadata": {},
   "outputs": [],
   "source": [
    "# Bayesian Average is defined as:\n",
    "\n",
    " \n",
    "\n",
    "# where \n",
    "#  represents our confidence, \n",
    "#  represents our prior, and \n",
    "#  is the total number of reviews for movie \n",
    "# . In this case, our prior \n",
    "#  will be the average mean rating across all movies. By defintion, C represents \"the typical data set size\". Let's make \n",
    "#  be the average number of ratings for a given movie."
   ]
  },
  {
   "cell_type": "code",
   "execution_count": null,
   "id": "bed6a619-a28d-4c67-a0a1-495b2c8ef438",
   "metadata": {},
   "outputs": [
    {
     "data": {
      "text/html": [
       "<div>\n",
       "<style scoped>\n",
       "    .dataframe tbody tr th:only-of-type {\n",
       "        vertical-align: middle;\n",
       "    }\n",
       "\n",
       "    .dataframe tbody tr th {\n",
       "        vertical-align: top;\n",
       "    }\n",
       "\n",
       "    .dataframe thead th {\n",
       "        text-align: right;\n",
       "    }\n",
       "</style>\n",
       "<table border=\"1\" class=\"dataframe\">\n",
       "  <thead>\n",
       "    <tr style=\"text-align: right;\">\n",
       "      <th></th>\n",
       "      <th>count</th>\n",
       "      <th>mean</th>\n",
       "    </tr>\n",
       "    <tr>\n",
       "      <th>movieId</th>\n",
       "      <th></th>\n",
       "      <th></th>\n",
       "    </tr>\n",
       "  </thead>\n",
       "  <tbody>\n",
       "    <tr>\n",
       "      <th>1</th>\n",
       "      <td>57309</td>\n",
       "      <td>3.893708</td>\n",
       "    </tr>\n",
       "    <tr>\n",
       "      <th>2</th>\n",
       "      <td>24228</td>\n",
       "      <td>3.251527</td>\n",
       "    </tr>\n",
       "    <tr>\n",
       "      <th>3</th>\n",
       "      <td>11804</td>\n",
       "      <td>3.142028</td>\n",
       "    </tr>\n",
       "    <tr>\n",
       "      <th>4</th>\n",
       "      <td>2523</td>\n",
       "      <td>2.853547</td>\n",
       "    </tr>\n",
       "    <tr>\n",
       "      <th>5</th>\n",
       "      <td>11714</td>\n",
       "      <td>3.058434</td>\n",
       "    </tr>\n",
       "  </tbody>\n",
       "</table>\n",
       "</div>"
      ],
      "text/plain": [
       "         count      mean\n",
       "movieId                 \n",
       "1        57309  3.893708\n",
       "2        24228  3.251527\n",
       "3        11804  3.142028\n",
       "4         2523  2.853547\n",
       "5        11714  3.058434"
      ]
     },
     "execution_count": 31,
     "metadata": {},
     "output_type": "execute_result"
    }
   ],
   "source": [
    "movie_stats = ratings.groupby(\"movieId\")[\"rating\"].agg([\"count\", \"mean\"]) \n",
    "movie_stats.head()"
   ]
  },
  {
   "cell_type": "code",
   "execution_count": null,
   "id": "3360e3a8-02e8-44d7-9286-45e81d0b6cde",
   "metadata": {},
   "outputs": [
    {
     "name": "stdout",
     "output_type": "stream",
     "text": [
      "Average number of ratings for a given movie: 423.39\n",
      "Average ratings for a given movie: 3.07\n"
     ]
    }
   ],
   "source": [
    "C = movie_stats[\"count\"].mean()\n",
    "m = movie_stats[\"mean\"].mean()\n",
    "\n",
    "print(f\"Average number of ratings for a given movie: {C:.2f}\")\n",
    "print(f\"Average ratings for a given movie: {m:.2f}\")"
   ]
  },
  {
   "cell_type": "code",
   "execution_count": null,
   "id": "5400a754-7174-45ad-81df-ee3833805c30",
   "metadata": {},
   "outputs": [],
   "source": [
    "def bayesian_avg(ratings):\n",
    "    bayesian_avg = (C*m+ratings.sum())/(C+ratings.count())\n",
    "    return round(bayesian_avg, 3)"
   ]
  },
  {
   "cell_type": "code",
   "execution_count": null,
   "id": "d7f99047-b4e7-4c5f-930e-b518e49572d6",
   "metadata": {},
   "outputs": [],
   "source": [
    "# Let's test our bayesian_avg function out on Hijacking Catastrophe:"
   ]
  },
  {
   "cell_type": "code",
   "execution_count": null,
   "id": "9788f928-91d7-4289-bbad-29b1197d2328",
   "metadata": {},
   "outputs": [
    {
     "data": {
      "text/plain": [
       "3.08"
      ]
     },
     "execution_count": 37,
     "metadata": {},
     "output_type": "execute_result"
    }
   ],
   "source": [
    "bayesian_avg(pd.Series([5,5]))"
   ]
  },
  {
   "cell_type": "code",
   "execution_count": null,
   "id": "d9e0cc51-6c7f-4b81-b7ad-0df9da447bba",
   "metadata": {},
   "outputs": [],
   "source": [
    "# lets apply bayesian_avg to all movies in our dataset"
   ]
  },
  {
   "cell_type": "code",
   "execution_count": null,
   "id": "716773be-260d-455d-82d7-7082f80fe63b",
   "metadata": {},
   "outputs": [],
   "source": [
    "bayesian_avg_ratings = ratings.groupby(\"movieId\")[\"rating\"].agg(bayesian_avg).reset_index()\n",
    "bayesian_avg_ratings.columns = [\"movieId\", \"bayesian_avg\"]\n",
    "movie_stats = movie_stats.merge(bayesian_avg_ratings, on=\"movieId\")"
   ]
  },
  {
   "cell_type": "code",
   "execution_count": null,
   "id": "5fe78b6e-3037-4247-b50b-7b3075a73012",
   "metadata": {},
   "outputs": [
    {
     "data": {
      "text/html": [
       "<div>\n",
       "<style scoped>\n",
       "    .dataframe tbody tr th:only-of-type {\n",
       "        vertical-align: middle;\n",
       "    }\n",
       "\n",
       "    .dataframe tbody tr th {\n",
       "        vertical-align: top;\n",
       "    }\n",
       "\n",
       "    .dataframe thead th {\n",
       "        text-align: right;\n",
       "    }\n",
       "</style>\n",
       "<table border=\"1\" class=\"dataframe\">\n",
       "  <thead>\n",
       "    <tr style=\"text-align: right;\">\n",
       "      <th></th>\n",
       "      <th>movieId</th>\n",
       "      <th>count</th>\n",
       "      <th>mean</th>\n",
       "      <th>bayesian_avg</th>\n",
       "      <th>title</th>\n",
       "    </tr>\n",
       "  </thead>\n",
       "  <tbody>\n",
       "    <tr>\n",
       "      <th>314</th>\n",
       "      <td>318</td>\n",
       "      <td>81482</td>\n",
       "      <td>4.413576</td>\n",
       "      <td>4.407</td>\n",
       "      <td>Shawshank Redemption, The (1994)</td>\n",
       "    </tr>\n",
       "    <tr>\n",
       "      <th>840</th>\n",
       "      <td>858</td>\n",
       "      <td>52498</td>\n",
       "      <td>4.324336</td>\n",
       "      <td>4.314</td>\n",
       "      <td>Godfather, The (1972)</td>\n",
       "    </tr>\n",
       "    <tr>\n",
       "      <th>49</th>\n",
       "      <td>50</td>\n",
       "      <td>55366</td>\n",
       "      <td>4.284353</td>\n",
       "      <td>4.275</td>\n",
       "      <td>Usual Suspects, The (1995)</td>\n",
       "    </tr>\n",
       "    <tr>\n",
       "      <th>1190</th>\n",
       "      <td>1221</td>\n",
       "      <td>34188</td>\n",
       "      <td>4.261759</td>\n",
       "      <td>4.247</td>\n",
       "      <td>Godfather: Part II, The (1974)</td>\n",
       "    </tr>\n",
       "    <tr>\n",
       "      <th>522</th>\n",
       "      <td>527</td>\n",
       "      <td>60411</td>\n",
       "      <td>4.247579</td>\n",
       "      <td>4.239</td>\n",
       "      <td>Schindler's List (1993)</td>\n",
       "    </tr>\n",
       "    <tr>\n",
       "      <th>...</th>\n",
       "      <td>...</td>\n",
       "      <td>...</td>\n",
       "      <td>...</td>\n",
       "      <td>...</td>\n",
       "      <td>...</td>\n",
       "    </tr>\n",
       "    <tr>\n",
       "      <th>9603</th>\n",
       "      <td>31698</td>\n",
       "      <td>633</td>\n",
       "      <td>1.232227</td>\n",
       "      <td>1.969</td>\n",
       "      <td>Son of the Mask (2005)</td>\n",
       "    </tr>\n",
       "    <tr>\n",
       "      <th>11349</th>\n",
       "      <td>50798</td>\n",
       "      <td>1180</td>\n",
       "      <td>1.457203</td>\n",
       "      <td>1.883</td>\n",
       "      <td>Epic Movie (2007)</td>\n",
       "    </tr>\n",
       "    <tr>\n",
       "      <th>6464</th>\n",
       "      <td>6587</td>\n",
       "      <td>758</td>\n",
       "      <td>1.214380</td>\n",
       "      <td>1.880</td>\n",
       "      <td>Gigli (2003)</td>\n",
       "    </tr>\n",
       "    <tr>\n",
       "      <th>4669</th>\n",
       "      <td>4775</td>\n",
       "      <td>669</td>\n",
       "      <td>1.125561</td>\n",
       "      <td>1.880</td>\n",
       "      <td>Glitter (2001)</td>\n",
       "    </tr>\n",
       "    <tr>\n",
       "      <th>3494</th>\n",
       "      <td>3593</td>\n",
       "      <td>4268</td>\n",
       "      <td>1.578374</td>\n",
       "      <td>1.713</td>\n",
       "      <td>Battlefield Earth (2000)</td>\n",
       "    </tr>\n",
       "  </tbody>\n",
       "</table>\n",
       "<p>59047 rows × 5 columns</p>\n",
       "</div>"
      ],
      "text/plain": [
       "       movieId  count      mean  bayesian_avg  \\\n",
       "314        318  81482  4.413576         4.407   \n",
       "840        858  52498  4.324336         4.314   \n",
       "49          50  55366  4.284353         4.275   \n",
       "1190      1221  34188  4.261759         4.247   \n",
       "522        527  60411  4.247579         4.239   \n",
       "...        ...    ...       ...           ...   \n",
       "9603     31698    633  1.232227         1.969   \n",
       "11349    50798   1180  1.457203         1.883   \n",
       "6464      6587    758  1.214380         1.880   \n",
       "4669      4775    669  1.125561         1.880   \n",
       "3494      3593   4268  1.578374         1.713   \n",
       "\n",
       "                                  title  \n",
       "314    Shawshank Redemption, The (1994)  \n",
       "840               Godfather, The (1972)  \n",
       "49           Usual Suspects, The (1995)  \n",
       "1190     Godfather: Part II, The (1974)  \n",
       "522             Schindler's List (1993)  \n",
       "...                                 ...  \n",
       "9603             Son of the Mask (2005)  \n",
       "11349                 Epic Movie (2007)  \n",
       "6464                       Gigli (2003)  \n",
       "4669                     Glitter (2001)  \n",
       "3494           Battlefield Earth (2000)  \n",
       "\n",
       "[59047 rows x 5 columns]"
      ]
     },
     "execution_count": 40,
     "metadata": {},
     "output_type": "execute_result"
    }
   ],
   "source": [
    "movie_stats = movie_stats.merge(movies[[\"movieId\", \"title\"]])\n",
    "movie_stats.sort_values(by=\"bayesian_avg\", ascending=False)"
   ]
  },
  {
   "cell_type": "code",
   "execution_count": null,
   "id": "1c9095e1-744d-4092-9117-6630428047bf",
   "metadata": {},
   "outputs": [],
   "source": [
    "# Using the Bayesian average, we see that Shawshank Redemption\n",
    "# The Godfather and the Usual Suspects are the most highly rated movies.\n",
    "# This makes much sense since these movies are critically acclaimed films"
   ]
  },
  {
   "cell_type": "code",
   "execution_count": null,
   "id": "d2b07208-bf91-42c4-b546-a3b22a68d558",
   "metadata": {},
   "outputs": [
    {
     "data": {
      "text/html": [
       "<div>\n",
       "<style scoped>\n",
       "    .dataframe tbody tr th:only-of-type {\n",
       "        vertical-align: middle;\n",
       "    }\n",
       "\n",
       "    .dataframe tbody tr th {\n",
       "        vertical-align: top;\n",
       "    }\n",
       "\n",
       "    .dataframe thead th {\n",
       "        text-align: right;\n",
       "    }\n",
       "</style>\n",
       "<table border=\"1\" class=\"dataframe\">\n",
       "  <thead>\n",
       "    <tr style=\"text-align: right;\">\n",
       "      <th></th>\n",
       "      <th>movieId</th>\n",
       "      <th>count</th>\n",
       "      <th>mean</th>\n",
       "      <th>bayesian_avg</th>\n",
       "      <th>title</th>\n",
       "    </tr>\n",
       "  </thead>\n",
       "  <tbody>\n",
       "    <tr>\n",
       "      <th>3494</th>\n",
       "      <td>3593</td>\n",
       "      <td>4268</td>\n",
       "      <td>1.578374</td>\n",
       "      <td>1.713</td>\n",
       "      <td>Battlefield Earth (2000)</td>\n",
       "    </tr>\n",
       "    <tr>\n",
       "      <th>6464</th>\n",
       "      <td>6587</td>\n",
       "      <td>758</td>\n",
       "      <td>1.214380</td>\n",
       "      <td>1.880</td>\n",
       "      <td>Gigli (2003)</td>\n",
       "    </tr>\n",
       "    <tr>\n",
       "      <th>4669</th>\n",
       "      <td>4775</td>\n",
       "      <td>669</td>\n",
       "      <td>1.125561</td>\n",
       "      <td>1.880</td>\n",
       "      <td>Glitter (2001)</td>\n",
       "    </tr>\n",
       "    <tr>\n",
       "      <th>11349</th>\n",
       "      <td>50798</td>\n",
       "      <td>1180</td>\n",
       "      <td>1.457203</td>\n",
       "      <td>1.883</td>\n",
       "      <td>Epic Movie (2007)</td>\n",
       "    </tr>\n",
       "    <tr>\n",
       "      <th>9603</th>\n",
       "      <td>31698</td>\n",
       "      <td>633</td>\n",
       "      <td>1.232227</td>\n",
       "      <td>1.969</td>\n",
       "      <td>Son of the Mask (2005)</td>\n",
       "    </tr>\n",
       "    <tr>\n",
       "      <th>...</th>\n",
       "      <td>...</td>\n",
       "      <td>...</td>\n",
       "      <td>...</td>\n",
       "      <td>...</td>\n",
       "      <td>...</td>\n",
       "    </tr>\n",
       "    <tr>\n",
       "      <th>522</th>\n",
       "      <td>527</td>\n",
       "      <td>60411</td>\n",
       "      <td>4.247579</td>\n",
       "      <td>4.239</td>\n",
       "      <td>Schindler's List (1993)</td>\n",
       "    </tr>\n",
       "    <tr>\n",
       "      <th>1190</th>\n",
       "      <td>1221</td>\n",
       "      <td>34188</td>\n",
       "      <td>4.261759</td>\n",
       "      <td>4.247</td>\n",
       "      <td>Godfather: Part II, The (1974)</td>\n",
       "    </tr>\n",
       "    <tr>\n",
       "      <th>49</th>\n",
       "      <td>50</td>\n",
       "      <td>55366</td>\n",
       "      <td>4.284353</td>\n",
       "      <td>4.275</td>\n",
       "      <td>Usual Suspects, The (1995)</td>\n",
       "    </tr>\n",
       "    <tr>\n",
       "      <th>840</th>\n",
       "      <td>858</td>\n",
       "      <td>52498</td>\n",
       "      <td>4.324336</td>\n",
       "      <td>4.314</td>\n",
       "      <td>Godfather, The (1972)</td>\n",
       "    </tr>\n",
       "    <tr>\n",
       "      <th>314</th>\n",
       "      <td>318</td>\n",
       "      <td>81482</td>\n",
       "      <td>4.413576</td>\n",
       "      <td>4.407</td>\n",
       "      <td>Shawshank Redemption, The (1994)</td>\n",
       "    </tr>\n",
       "  </tbody>\n",
       "</table>\n",
       "<p>59047 rows × 5 columns</p>\n",
       "</div>"
      ],
      "text/plain": [
       "       movieId  count      mean  bayesian_avg  \\\n",
       "3494      3593   4268  1.578374         1.713   \n",
       "6464      6587    758  1.214380         1.880   \n",
       "4669      4775    669  1.125561         1.880   \n",
       "11349    50798   1180  1.457203         1.883   \n",
       "9603     31698    633  1.232227         1.969   \n",
       "...        ...    ...       ...           ...   \n",
       "522        527  60411  4.247579         4.239   \n",
       "1190      1221  34188  4.261759         4.247   \n",
       "49          50  55366  4.284353         4.275   \n",
       "840        858  52498  4.324336         4.314   \n",
       "314        318  81482  4.413576         4.407   \n",
       "\n",
       "                                  title  \n",
       "3494           Battlefield Earth (2000)  \n",
       "6464                       Gigli (2003)  \n",
       "4669                     Glitter (2001)  \n",
       "11349                 Epic Movie (2007)  \n",
       "9603             Son of the Mask (2005)  \n",
       "...                                 ...  \n",
       "522             Schindler's List (1993)  \n",
       "1190     Godfather: Part II, The (1974)  \n",
       "49           Usual Suspects, The (1995)  \n",
       "840               Godfather, The (1972)  \n",
       "314    Shawshank Redemption, The (1994)  \n",
       "\n",
       "[59047 rows x 5 columns]"
      ]
     },
     "execution_count": 43,
     "metadata": {},
     "output_type": "execute_result"
    }
   ],
   "source": [
    "movie_stats.sort_values(by=\"bayesian_avg\", ascending=True)"
   ]
  },
  {
   "cell_type": "code",
   "execution_count": null,
   "id": "30f5301c-94ca-444d-bf9f-702e0293eceb",
   "metadata": {},
   "outputs": [],
   "source": [
    "# While the worst rated movies are Battlefield Earth, Giggli, Glitter, Epic movie and Son of the mask"
   ]
  },
  {
   "cell_type": "code",
   "execution_count": null,
   "id": "56250c92-739f-4e8e-9041-7d7bd7243c84",
   "metadata": {},
   "outputs": [],
   "source": [
    "# A Glimpse of Movie Genre"
   ]
  },
  {
   "cell_type": "code",
   "execution_count": null,
   "id": "ce405f9b-dd93-4ea4-8500-7c5de9d92dc3",
   "metadata": {},
   "outputs": [],
   "source": [
    "# The movies dataset needs to be cleaned in two ways:\n",
    "\n",
    "# genres is expressed as a string with a pipe | separating each genre. We will manipulate this string into a list, which will make it much easier to analyze.\n",
    "# title currently has (year) appended at the end. We will extract year from each title string and create a new column for it."
   ]
  },
  {
   "cell_type": "code",
   "execution_count": null,
   "id": "b961a5c1-a55d-4340-b3f2-b6016b555156",
   "metadata": {},
   "outputs": [
    {
     "data": {
      "text/html": [
       "<div>\n",
       "<style scoped>\n",
       "    .dataframe tbody tr th:only-of-type {\n",
       "        vertical-align: middle;\n",
       "    }\n",
       "\n",
       "    .dataframe tbody tr th {\n",
       "        vertical-align: top;\n",
       "    }\n",
       "\n",
       "    .dataframe thead th {\n",
       "        text-align: right;\n",
       "    }\n",
       "</style>\n",
       "<table border=\"1\" class=\"dataframe\">\n",
       "  <thead>\n",
       "    <tr style=\"text-align: right;\">\n",
       "      <th></th>\n",
       "      <th>movieId</th>\n",
       "      <th>title</th>\n",
       "      <th>genres</th>\n",
       "    </tr>\n",
       "  </thead>\n",
       "  <tbody>\n",
       "    <tr>\n",
       "      <th>0</th>\n",
       "      <td>1</td>\n",
       "      <td>Toy Story (1995)</td>\n",
       "      <td>[Adventure, Animation, Children, Comedy, Fantasy]</td>\n",
       "    </tr>\n",
       "    <tr>\n",
       "      <th>1</th>\n",
       "      <td>2</td>\n",
       "      <td>Jumanji (1995)</td>\n",
       "      <td>[Adventure, Children, Fantasy]</td>\n",
       "    </tr>\n",
       "    <tr>\n",
       "      <th>2</th>\n",
       "      <td>3</td>\n",
       "      <td>Grumpier Old Men (1995)</td>\n",
       "      <td>[Comedy, Romance]</td>\n",
       "    </tr>\n",
       "    <tr>\n",
       "      <th>3</th>\n",
       "      <td>4</td>\n",
       "      <td>Waiting to Exhale (1995)</td>\n",
       "      <td>[Comedy, Drama, Romance]</td>\n",
       "    </tr>\n",
       "    <tr>\n",
       "      <th>4</th>\n",
       "      <td>5</td>\n",
       "      <td>Father of the Bride Part II (1995)</td>\n",
       "      <td>[Comedy]</td>\n",
       "    </tr>\n",
       "  </tbody>\n",
       "</table>\n",
       "</div>"
      ],
      "text/plain": [
       "   movieId                               title  \\\n",
       "0        1                    Toy Story (1995)   \n",
       "1        2                      Jumanji (1995)   \n",
       "2        3             Grumpier Old Men (1995)   \n",
       "3        4            Waiting to Exhale (1995)   \n",
       "4        5  Father of the Bride Part II (1995)   \n",
       "\n",
       "                                              genres  \n",
       "0  [Adventure, Animation, Children, Comedy, Fantasy]  \n",
       "1                     [Adventure, Children, Fantasy]  \n",
       "2                                  [Comedy, Romance]  \n",
       "3                           [Comedy, Drama, Romance]  \n",
       "4                                           [Comedy]  "
      ]
     },
     "execution_count": 47,
     "metadata": {},
     "output_type": "execute_result"
    }
   ],
   "source": [
    "movies['genres'] = movies['genres'].apply(lambda x: x.split(\"|\"))\n",
    "movies.head()"
   ]
  },
  {
   "cell_type": "code",
   "execution_count": null,
   "id": "adb1a794-3d4a-491a-b878-cd410d3b42f7",
   "metadata": {},
   "outputs": [],
   "source": [
    "# How many genres are there"
   ]
  },
  {
   "cell_type": "code",
   "execution_count": null,
   "id": "699caed2-31ae-4419-8bb6-8fa992d254b5",
   "metadata": {},
   "outputs": [],
   "source": [
    "from collections import Counter"
   ]
  },
  {
   "cell_type": "code",
   "execution_count": null,
   "id": "0e832fae-c419-4078-825a-0c073f7cb7e4",
   "metadata": {},
   "outputs": [],
   "source": [
    "genre_frequency = Counter(g for genres in movies[\"genres\"] for g in genres)"
   ]
  },
  {
   "cell_type": "code",
   "execution_count": null,
   "id": "5e7629cf-7bd6-4ff8-9abb-39f6666ad042",
   "metadata": {},
   "outputs": [
    {
     "name": "stdout",
     "output_type": "stream",
     "text": [
      "There are 20 genres.\n"
     ]
    }
   ],
   "source": [
    "print(f\"There are {len(genre_frequency)} genres.\")"
   ]
  },
  {
   "cell_type": "code",
   "execution_count": null,
   "id": "86df854d-d185-4371-a814-ddf677c2aba5",
   "metadata": {},
   "outputs": [
    {
     "data": {
      "text/plain": [
       "Counter({'Drama': 25606,\n",
       "         'Comedy': 16870,\n",
       "         'Thriller': 8654,\n",
       "         'Romance': 7719,\n",
       "         'Action': 7348,\n",
       "         'Horror': 5989,\n",
       "         'Documentary': 5605,\n",
       "         'Crime': 5319,\n",
       "         '(no genres listed)': 5062,\n",
       "         'Adventure': 4145,\n",
       "         'Sci-Fi': 3595,\n",
       "         'Children': 2935,\n",
       "         'Animation': 2929,\n",
       "         'Mystery': 2925,\n",
       "         'Fantasy': 2731,\n",
       "         'War': 1874,\n",
       "         'Western': 1399,\n",
       "         'Musical': 1054,\n",
       "         'Film-Noir': 353,\n",
       "         'IMAX': 195})"
      ]
     },
     "execution_count": 52,
     "metadata": {},
     "output_type": "execute_result"
    }
   ],
   "source": [
    "genre_frequency"
   ]
  },
  {
   "cell_type": "code",
   "execution_count": null,
   "id": "71f543fc-b6aa-41ec-91d5-9fe4e15be92f",
   "metadata": {},
   "outputs": [],
   "source": [
    "# The most popular genres are"
   ]
  },
  {
   "cell_type": "code",
   "execution_count": null,
   "id": "d7fc13f7-ffeb-4e16-ace0-971ef7972c90",
   "metadata": {},
   "outputs": [
    {
     "name": "stdout",
     "output_type": "stream",
     "text": [
      "The 5 most common genres are [('Drama', 25606), ('Comedy', 16870), ('Thriller', 8654), ('Romance', 7719), ('Action', 7348)]\n"
     ]
    }
   ],
   "source": [
    "print(f\"The 5 most common genres are {genre_frequency.most_common(5)}\")"
   ]
  },
  {
   "cell_type": "code",
   "execution_count": null,
   "id": "3ad679e0-b3ba-4f90-9634-83ce0d746f33",
   "metadata": {},
   "outputs": [],
   "source": [
    "# Drama, Comedy, Thriller, Romance, Action are the most common genres"
   ]
  },
  {
   "cell_type": "code",
   "execution_count": null,
   "id": "5a9f1757-8d92-4ee2-81d0-dd6106700c3c",
   "metadata": {},
   "outputs": [],
   "source": [
    "# Let's also visualize genres popularity with a barplot."
   ]
  },
  {
   "cell_type": "code",
   "execution_count": null,
   "id": "11565bac-fa1a-48d9-a4bc-01c9de3648b8",
   "metadata": {},
   "outputs": [],
   "source": [
    "genre_frequency_df = pd.DataFrame([genre_frequency]).T.reset_index()\n",
    "genre_frequency_df.columns = [\"genre\", \"count\"]"
   ]
  },
  {
   "cell_type": "code",
   "execution_count": null,
   "id": "1a831ab5-b3e5-4d60-b7f1-3c8d59a749d5",
   "metadata": {},
   "outputs": [],
   "source": [
    "# plotting a bar graph"
   ]
  },
  {
   "cell_type": "code",
   "execution_count": null,
   "id": "a446b097-abfb-4059-a243-a5ebf952f5b1",
   "metadata": {},
   "outputs": [
    {
     "data": {
      "image/png": "[encoded data removed]",
      "text/plain": [
       "<Figure size 1000x600 with 1 Axes>"
      ]
     },
     "metadata": {},
     "output_type": "display_data"
    }
   ],
   "source": [
    "plt.figure(figsize=(10,6))\n",
    "sns.barplot(data=genre_frequency_df.sort_values(by=\"count\", ascending=False), x=\"genre\", y=\"count\")\n",
    "plt.title(\"Genre and Count\")\n",
    "plt.xticks(rotation=90)\n",
    "plt.show()"
   ]
  },
  {
   "cell_type": "code",
   "execution_count": null,
   "id": "5db37bf4-b237-4ee0-bb85-93a8a0ba5360",
   "metadata": {},
   "outputs": [],
   "source": [
    "# 4. Data Preprocessing"
   ]
  },
  {
   "cell_type": "code",
   "execution_count": null,
   "id": "8191389e-55ab-4820-a13b-7af0608787c4",
   "metadata": {},
   "outputs": [],
   "source": [
    "# We are going to use a technique called colaborative filtering to generate recommendations for users. This technique is based on the premise that similar people like similar things."
   ]
  },
  {
   "cell_type": "code",
   "execution_count": null,
   "id": "e6023e61-ee2a-4dd5-a663-44c54b93cd9c",
   "metadata": {},
   "outputs": [],
   "source": [
    "# The first step is to transform our data into a user-item matrix, also known as a \"utility\" matrix. In this matrix, rows represent users and columns represent movies. The beauty of collaborative filtering is that it doesn't require any information about the users or the movies user to generate recommendations."
   ]
  },
  {
   "cell_type": "code",
   "execution_count": null,
   "id": "b4b28ee7-d1ef-4a16-bd32-348049adb260",
   "metadata": {},
   "outputs": [],
   "source": [
    "from scipy.sparse import csr_matrix"
   ]
  },
  {
   "cell_type": "code",
   "execution_count": null,
   "id": "c64194fc-764c-4c15-8233-6aa23fdbd432",
   "metadata": {},
   "outputs": [],
   "source": [
    "def create_X(df):\n",
    "    \"\"\"\n",
    "    Generates a sparse matrix from ratings dataframe.\n",
    "    \n",
    "    Args:\n",
    "        df: pandas dataframe containing 3 columns (userId, movieId, rating)\n",
    "    \n",
    "    Returns:\n",
    "        X: sparse matrix\n",
    "        user_mapper: dict that maps user id's to user indices\n",
    "        user_inv_mapper: dict that maps user indices to user id's\n",
    "        movie_mapper: dict that maps movie id's to movie indices\n",
    "        movie_inv_mapper: dict that maps movie indices to movie id's\n",
    "    \"\"\"\n",
    "    M = df[\"userId\"].nunique()\n",
    "    N = df[\"movieId\"].nunique()\n",
    "\n",
    "    user_mapper = dict(zip(np.unique(df[\"userId\"]), list(range(M))))\n",
    "    movie_mapper = dict(zip(np.unique(df[\"movieId\"]), list(range(N))))\n",
    "    \n",
    "    user_inv_mapper = dict(zip(list(range(M)), np.unique(df[\"userId\"])))\n",
    "    movie_inv_mapper = dict(zip(list(range(N)), np.unique(df[\"movieId\"])))\n",
    "    \n",
    "    user_index = [user_mapper[i] for i in df['userId']]\n",
    "    item_index = [movie_mapper[i] for i in df['movieId']]\n",
    "\n",
    "    X = csr_matrix((df[\"rating\"], (user_index,item_index)), shape=(M,N))\n",
    "    \n",
    "    return X, user_mapper, movie_mapper, user_inv_mapper, movie_inv_mapper"
   ]
  },
  {
   "cell_type": "code",
   "execution_count": null,
   "id": "55b01657-5367-46b1-a3a7-10b888fdb394",
   "metadata": {},
   "outputs": [],
   "source": [
    "X, user_mapper, movie_mapper, user_inv_mapper, movie_inv_mapper = create_X(ratings)"
   ]
  },
  {
   "cell_type": "code",
   "execution_count": null,
   "id": "fb46d71b-36a4-4254-9461-1a37f5a81389",
   "metadata": {},
   "outputs": [
    {
     "data": {
      "text/plain": [
       "(162541, 59047)"
      ]
     },
     "execution_count": 70,
     "metadata": {},
     "output_type": "execute_result"
    }
   ],
   "source": [
    "X.shape"
   ]
  },
  {
   "cell_type": "code",
   "execution_count": null,
   "id": "1cd0de79-5079-49e3-b48e-5a2f1c62c9e7",
   "metadata": {},
   "outputs": [],
   "source": [
    "# our X matrix contain 162514 users and 59047 movies"
   ]
  },
  {
   "cell_type": "code",
   "execution_count": null,
   "id": "744974c1-59a0-46fb-86cb-196568ac4f05",
   "metadata": {},
   "outputs": [],
   "source": [
    "# Evaluating sparsity"
   ]
  },
  {
   "cell_type": "code",
   "execution_count": null,
   "id": "77931d4a-4c4a-4b4a-b540-92ee20163e99",
   "metadata": {},
   "outputs": [],
   "source": [
    "# Here, we calculate sparsity by dividing the number of stored elements by total number of elements. The number of stored (non-empty) elements in our matrix (nnz) is equivalent to the number of ratings in our dataset."
   ]
  },
  {
   "cell_type": "code",
   "execution_count": null,
   "id": "057c17e3-d9e8-47b7-950f-0667b25d5cda",
   "metadata": {},
   "outputs": [
    {
     "name": "stdout",
     "output_type": "stream",
     "text": [
      "Matrix Sparsity: 0.26%\n"
     ]
    }
   ],
   "source": [
    "n_total = X.shape[0]*X.shape[1]\n",
    "n_ratings = X.nnz\n",
    "sparsity = n_ratings/n_total\n",
    "print(f\"Matrix Sparsity: {round(sparsity*100,2)}%\")"
   ]
  },
  {
   "cell_type": "code",
   "execution_count": null,
   "id": "6b22cd20-1a9b-4f83-9b96-1f301bffd26f",
   "metadata": {},
   "outputs": [],
   "source": [
    "# csr_matrix.nn counts the stored values in our sparse matrix. The rest of our cells are empty"
   ]
  },
  {
   "cell_type": "code",
   "execution_count": null,
   "id": "80393602-9ebc-4342-a195-bb4d433de19d",
   "metadata": {},
   "outputs": [],
   "source": [
    "# The cold start problem is when there are new users and movies in our matrix that do not have any ratings. In our Movielens dataset, all users and movies have at least one rating but in general, it's useful to check which users and movies have few interactions."
   ]
  },
  {
   "cell_type": "code",
   "execution_count": null,
   "id": "0736868c-6f7c-40a6-ad50-5697392d7003",
   "metadata": {},
   "outputs": [
    {
     "data": {
      "text/plain": [
       "162541"
      ]
     },
     "execution_count": 77,
     "metadata": {},
     "output_type": "execute_result"
    }
   ],
   "source": [
    "n_ratings_per_user = X.getnnz(axis=1)\n",
    "len(n_ratings_per_user)"
   ]
  },
  {
   "cell_type": "code",
   "execution_count": null,
   "id": "aa5cafaf-05fc-488d-93a8-2bc377d801c8",
   "metadata": {},
   "outputs": [
    {
     "name": "stdout",
     "output_type": "stream",
     "text": [
      "Most active user rated 32202 movies.\n",
      "Least active user rated 20 movies.\n"
     ]
    }
   ],
   "source": [
    "print(f\"Most active user rated {n_ratings_per_user.max()} movies.\")\n",
    "print(f\"Least active user rated {n_ratings_per_user.min()} movies.\")"
   ]
  },
  {
   "cell_type": "code",
   "execution_count": null,
   "id": "f7a7e12d-bedb-478b-9e60-c1323a6d1037",
   "metadata": {},
   "outputs": [
    {
     "data": {
      "text/plain": [
       "59047"
      ]
     },
     "execution_count": 79,
     "metadata": {},
     "output_type": "execute_result"
    }
   ],
   "source": [
    "n_ratings_per_movie = X.getnnz(axis=0)\n",
    "len(n_ratings_per_movie)"
   ]
  },
  {
   "cell_type": "code",
   "execution_count": null,
   "id": "c3927668-0a0a-41ef-b64f-5702a105b3f3",
   "metadata": {},
   "outputs": [
    {
     "name": "stdout",
     "output_type": "stream",
     "text": [
      "Most rated movie has 81491 ratings\n",
      "Least rated movie has 1 ratings\n"
     ]
    }
   ],
   "source": [
    "print(f\"Most rated movie has {n_ratings_per_movie.max()} ratings\")\n",
    "print(f\"Least rated movie has {n_ratings_per_movie.min()} ratings\")"
   ]
  },
  {
   "cell_type": "code",
   "execution_count": null,
   "id": "8b3f6471-b8b7-4b8a-98f1-1b637305bad9",
   "metadata": {},
   "outputs": [
    {
     "name": "stderr",
     "output_type": "stream",
     "text": [
      "c:\\Users\\Luee\\anaconda3\\Lib\\site-packages\\seaborn\\_oldcore.py:1119: FutureWarning: use_inf_as_na option is deprecated and will be removed in a future version. Convert inf values to NaN before operating instead.\n",
      "  with pd.option_context('mode.use_inf_as_na', True):\n",
      "c:\\Users\\Luee\\anaconda3\\Lib\\site-packages\\seaborn\\_oldcore.py:1119: FutureWarning: use_inf_as_na option is deprecated and will be removed in a future version. Convert inf values to NaN before operating instead.\n",
      "  with pd.option_context('mode.use_inf_as_na', True):\n"
     ]
    },
    {
     "data": {
      "image/png": "[encoded data removed]",
      "text/plain": [
       "<Figure size 2000x600 with 2 Axes>"
      ]
     },
     "metadata": {},
     "output_type": "display_data"
    }
   ],
   "source": [
    "plt.figure(figsize=(20, 6))\n",
    "plt.subplot(1,2,1)\n",
    "sns.kdeplot(n_ratings_per_user, fill=True)\n",
    "plt.xlim(0)\n",
    "plt.title(\"Number of Ratings Per User\", fontsize=14)\n",
    "plt.xlabel(\"Number of ratings per user\")\n",
    "plt.ylabel(\"density\")\n",
    "plt.subplot(1,2,2)\n",
    "sns.kdeplot(n_ratings_per_movie, fill=True)\n",
    "plt.xlim(0)\n",
    "plt.title(\"Number of Ratings Per Movie\", fontsize=14)\n",
    "plt.xlabel(\"number of ratings per movie\")\n",
    "plt.ylabel(\"density\")\n",
    "plt.show()"
   ]
  },
  {
   "cell_type": "code",
   "execution_count": null,
   "id": "85a5dbae-46dd-4a1b-bc7c-398b19da6358",
   "metadata": {},
   "outputs": [],
   "source": [
    "# Step 5: Item - Item Recommendation with k-Nearest Neighbors"
   ]
  },
  {
   "cell_type": "code",
   "execution_count": null,
   "id": "7e63889f-1c1d-4e08-9605-9e7aa3be23ac",
   "metadata": {},
   "outputs": [],
   "source": [
    "# We are going to find the k movie that have the most similar user-engagement vector for movie i"
   ]
  },
  {
   "cell_type": "code",
   "execution_count": null,
   "id": "946312f7-86d5-44c2-9d93-c1c0b3e1c7a7",
   "metadata": {},
   "outputs": [],
   "source": [
    "from sklearn.neighbors import NearestNeighbors"
   ]
  },
  {
   "cell_type": "code",
   "execution_count": null,
   "id": "2b8fbce1-85ba-424a-b654-6084bf712559",
   "metadata": {},
   "outputs": [],
   "source": [
    "def find_similar_movies(movie_id, X, movie_mapper, movie_inv_mapper, k, metric='cosine'):\n",
    "    \"\"\"\n",
    "    Finds k-nearest neighbours for a given movie id.\n",
    "    \n",
    "    Args:\n",
    "        movie_id: id of the movie of interest\n",
    "        X: user-item utility matrix\n",
    "        k: number of similar movies to retrieve\n",
    "        metric: distance metric for kNN calculations\n",
    "    \n",
    "    Output: returns list of k similar movie ID's\n",
    "    \"\"\"\n",
    "    X = X.T\n",
    "    neighbour_ids = []\n",
    "    \n",
    "    movie_ind = movie_mapper[movie_id]\n",
    "    movie_vec = X[movie_ind]\n",
    "    if isinstance(movie_vec, (np.ndarray)):\n",
    "        movie_vec = movie_vec.reshape(1,-1)\n",
    "    # use k+1 since kNN output includes the movieId of interest\n",
    "    kNN = NearestNeighbors(n_neighbors=k+1, algorithm=\"brute\", metric=metric)\n",
    "    kNN.fit(X)\n",
    "    neighbour = kNN.kneighbors(movie_vec, return_distance=False)\n",
    "    for i in range(0,k):\n",
    "        n = neighbour.item(i)\n",
    "        neighbour_ids.append(movie_inv_mapper[n])\n",
    "    neighbour_ids.pop(0)\n",
    "    return neighbour_ids"
   ]
  },
  {
   "cell_type": "code",
   "execution_count": null,
   "id": "dbb1ce4c-26d7-46a7-85d4-c2450570ded1",
   "metadata": {},
   "outputs": [],
   "source": [
    "# find_similar_movies() takes in a movieId and X matrix, and outputs a list of k movies that are similar to the movieId of interest."
   ]
  },
  {
   "cell_type": "code",
   "execution_count": null,
   "id": "7679fd1c-c0f8-472f-9c63-0f38ee876893",
   "metadata": {},
   "outputs": [],
   "source": [
    "# Let's see how it works in action. We will first create another mapper that maps movieId to title so that our results are interpretable."
   ]
  },
  {
   "cell_type": "code",
   "execution_count": null,
   "id": "aba85e2d-3ad3-4bd3-b3c1-ff943189a712",
   "metadata": {},
   "outputs": [],
   "source": [
    "similar_movies = find_similar_movies(1, X, movie_mapper, movie_inv_mapper, k=10)"
   ]
  },
  {
   "cell_type": "code",
   "execution_count": null,
   "id": "b85e7f1b-b41b-41d0-ab8b-7587d9697cfc",
   "metadata": {},
   "outputs": [
    {
     "data": {
      "text/plain": [
       "[260, 3114, 1270, 356, 480, 1210, 780, 364, 588]"
      ]
     },
     "execution_count": 90,
     "metadata": {},
     "output_type": "execute_result"
    }
   ],
   "source": [
    "similar_movies"
   ]
  },
  {
   "cell_type": "code",
   "execution_count": null,
   "id": "4c853c61-86cc-4b8f-97d6-049dc5e65c09",
   "metadata": {},
   "outputs": [
    {
     "name": "stdout",
     "output_type": "stream",
     "text": [
      "Because you watched Toy Story (1995):\n",
      "Star Wars: Episode IV - A New Hope (1977)\n",
      "Toy Story 2 (1999)\n",
      "Back to the Future (1985)\n",
      "Forrest Gump (1994)\n",
      "Jurassic Park (1993)\n",
      "Star Wars: Episode VI - Return of the Jedi (1983)\n",
      "Independence Day (a.k.a. ID4) (1996)\n",
      "Lion King, The (1994)\n",
      "Aladdin (1992)\n"
     ]
    }
   ],
   "source": [
    "movie_titles = dict(zip(movies[\"movieId\"], movies[\"title\"]))\n",
    "\n",
    "movie_id = 1\n",
    "\n",
    "similar_movies = find_similar_movies(1, X, movie_mapper, movie_inv_mapper, metric=\"cosine\", k=10)\n",
    "movie_title = movie_titles[movie_id]\n",
    "\n",
    "\n",
    "print(f\"Because you watched {movie_title}:\")\n",
    "for i in similar_movies:\n",
    "    print(movie_titles[i])"
   ]
  },
  {
   "cell_type": "code",
   "execution_count": null,
   "id": "9d01fc97-afdf-4c57-9e4c-7a067a449231",
   "metadata": {},
   "outputs": [],
   "source": [
    "# The results above show the 10 movies that are most similar to Toy Story. Most movies in this list are family movies from the 1990s, which seems pretty reasonable. Note that these recommendations are based solely on user-item ratings. Movie features such as genres are not used in this approach."
   ]
  },
  {
   "cell_type": "code",
   "execution_count": null,
   "id": "b00c9402-6603-4294-914e-6d4b442884cf",
   "metadata": {},
   "outputs": [],
   "source": [
    "# You can also play around with the kNN distance metric and see what results you would get if you use \"manhattan\" or \"euclidean\" instead of \"cosine\"."
   ]
  },
  {
   "cell_type": "code",
   "execution_count": null,
   "id": "5991ebde-7c00-415a-8787-a757c4e7b321",
   "metadata": {},
   "outputs": [
    {
     "name": "stdout",
     "output_type": "stream",
     "text": [
      "Because you watched Toy Story (1995):\n",
      "Toy Story 2 (1999)\n",
      "Independence Day (a.k.a. ID4) (1996)\n",
      "Willy Wonka & the Chocolate Factory (1971)\n",
      "Bug's Life, A (1998)\n",
      "Mission: Impossible (1996)\n",
      "Aladdin (1992)\n",
      "Twister (1996)\n",
      "Monsters, Inc. (2001)\n",
      "Men in Black (a.k.a. MIB) (1997)\n"
     ]
    }
   ],
   "source": [
    "movie_id = 1 \n",
    "\n",
    "similar_movies = find_similar_movies(1, X, movie_mapper, movie_inv_mapper, metric=\"euclidean\", k=10)\n",
    "movie_title = movie_titles[movie_id]\n",
    "\n",
    "print(f\"Because you watched {movie_title}:\")\n",
    "for i in similar_movies:\n",
    "    print(movie_titles[i])"
   ]
  },
  {
   "cell_type": "code",
   "execution_count": null,
   "id": "cdf42e8a-6631-4462-aae3-2a1630bbbfa4",
   "metadata": {},
   "outputs": [],
   "source": [
    "# 6. Handling the Cold Start Problem"
   ]
  },
  {
   "cell_type": "code",
   "execution_count": null,
   "id": "38a53a1e-d7ef-4670-abfa-70fe14be8936",
   "metadata": {},
   "outputs": [],
   "source": [
    "# Collaborative filtering relies solely on user-item interactions within the utility matrix. The issue with this approach is that brand new users or items with no iteractions get excluded from the recommendation system. This is called the cold start problem. Content-based filtering is a way to handle this problem by generating recommendations based on user and item features."
   ]
  },
  {
   "cell_type": "code",
   "execution_count": null,
   "id": "501cc90f-6aa7-456a-badf-c32f83f814af",
   "metadata": {},
   "outputs": [
    {
     "name": "stdout",
     "output_type": "stream",
     "text": [
      "There are 62423 unique movies in our movie dataset.\n"
     ]
    }
   ],
   "source": [
    "n_movies = movies[\"movieId\"].nunique()\n",
    "print(f\"There are {n_movies} unique movies in our movie dataset.\")"
   ]
  },
  {
   "cell_type": "code",
   "execution_count": null,
   "id": "ff033fc5-2a8e-462d-8134-93f25e1ef226",
   "metadata": {},
   "outputs": [],
   "source": [
    "genres = set(g for G  in movies[\"genres\"] for g in G)"
   ]
  },
  {
   "cell_type": "code",
   "execution_count": null,
   "id": "5542dab5-1f24-41eb-a146-92341dcc808e",
   "metadata": {},
   "outputs": [],
   "source": [
    "for g in genres:\n",
    "    movies[g] = movies.genres.transform(lambda x: int(g in x))"
   ]
  },
  {
   "cell_type": "code",
   "execution_count": null,
   "id": "52c4c813-a76f-4d43-bf54-00ddb82850ac",
   "metadata": {},
   "outputs": [],
   "source": [
    "movie_genres = movies.drop(columns=['movieId', 'title','genres'])"
   ]
  },
  {
   "cell_type": "code",
   "execution_count": null,
   "id": "dc99abe8-4e21-4fab-9168-199cb937882f",
   "metadata": {},
   "outputs": [
    {
     "data": {
      "text/html": [
       "<div>\n",
       "<style scoped>\n",
       "    .dataframe tbody tr th:only-of-type {\n",
       "        vertical-align: middle;\n",
       "    }\n",
       "\n",
       "    .dataframe tbody tr th {\n",
       "        vertical-align: top;\n",
       "    }\n",
       "\n",
       "    .dataframe thead th {\n",
       "        text-align: right;\n",
       "    }\n",
       "</style>\n",
       "<table border=\"1\" class=\"dataframe\">\n",
       "  <thead>\n",
       "    <tr style=\"text-align: right;\">\n",
       "      <th></th>\n",
       "      <th>Animation</th>\n",
       "      <th>Comedy</th>\n",
       "      <th>Children</th>\n",
       "      <th>Drama</th>\n",
       "      <th>Adventure</th>\n",
       "      <th>(no genres listed)</th>\n",
       "      <th>Documentary</th>\n",
       "      <th>Crime</th>\n",
       "      <th>Horror</th>\n",
       "      <th>Musical</th>\n",
       "      <th>Sci-Fi</th>\n",
       "      <th>IMAX</th>\n",
       "      <th>Romance</th>\n",
       "      <th>Film-Noir</th>\n",
       "      <th>Fantasy</th>\n",
       "      <th>Action</th>\n",
       "      <th>Western</th>\n",
       "      <th>War</th>\n",
       "      <th>Thriller</th>\n",
       "      <th>Mystery</th>\n",
       "    </tr>\n",
       "  </thead>\n",
       "  <tbody>\n",
       "    <tr>\n",
       "      <th>0</th>\n",
       "      <td>1</td>\n",
       "      <td>1</td>\n",
       "      <td>1</td>\n",
       "      <td>0</td>\n",
       "      <td>1</td>\n",
       "      <td>0</td>\n",
       "      <td>0</td>\n",
       "      <td>0</td>\n",
       "      <td>0</td>\n",
       "      <td>0</td>\n",
       "      <td>0</td>\n",
       "      <td>0</td>\n",
       "      <td>0</td>\n",
       "      <td>0</td>\n",
       "      <td>1</td>\n",
       "      <td>0</td>\n",
       "      <td>0</td>\n",
       "      <td>0</td>\n",
       "      <td>0</td>\n",
       "      <td>0</td>\n",
       "    </tr>\n",
       "    <tr>\n",
       "      <th>1</th>\n",
       "      <td>0</td>\n",
       "      <td>0</td>\n",
       "      <td>1</td>\n",
       "      <td>0</td>\n",
       "      <td>1</td>\n",
       "      <td>0</td>\n",
       "      <td>0</td>\n",
       "      <td>0</td>\n",
       "      <td>0</td>\n",
       "      <td>0</td>\n",
       "      <td>0</td>\n",
       "      <td>0</td>\n",
       "      <td>0</td>\n",
       "      <td>0</td>\n",
       "      <td>1</td>\n",
       "      <td>0</td>\n",
       "      <td>0</td>\n",
       "      <td>0</td>\n",
       "      <td>0</td>\n",
       "      <td>0</td>\n",
       "    </tr>\n",
       "    <tr>\n",
       "      <th>2</th>\n",
       "      <td>0</td>\n",
       "      <td>1</td>\n",
       "      <td>0</td>\n",
       "      <td>0</td>\n",
       "      <td>0</td>\n",
       "      <td>0</td>\n",
       "      <td>0</td>\n",
       "      <td>0</td>\n",
       "      <td>0</td>\n",
       "      <td>0</td>\n",
       "      <td>0</td>\n",
       "      <td>0</td>\n",
       "      <td>1</td>\n",
       "      <td>0</td>\n",
       "      <td>0</td>\n",
       "      <td>0</td>\n",
       "      <td>0</td>\n",
       "      <td>0</td>\n",
       "      <td>0</td>\n",
       "      <td>0</td>\n",
       "    </tr>\n",
       "    <tr>\n",
       "      <th>3</th>\n",
       "      <td>0</td>\n",
       "      <td>1</td>\n",
       "      <td>0</td>\n",
       "      <td>1</td>\n",
       "      <td>0</td>\n",
       "      <td>0</td>\n",
       "      <td>0</td>\n",
       "      <td>0</td>\n",
       "      <td>0</td>\n",
       "      <td>0</td>\n",
       "      <td>0</td>\n",
       "      <td>0</td>\n",
       "      <td>1</td>\n",
       "      <td>0</td>\n",
       "      <td>0</td>\n",
       "      <td>0</td>\n",
       "      <td>0</td>\n",
       "      <td>0</td>\n",
       "      <td>0</td>\n",
       "      <td>0</td>\n",
       "    </tr>\n",
       "    <tr>\n",
       "      <th>4</th>\n",
       "      <td>0</td>\n",
       "      <td>1</td>\n",
       "      <td>0</td>\n",
       "      <td>0</td>\n",
       "      <td>0</td>\n",
       "      <td>0</td>\n",
       "      <td>0</td>\n",
       "      <td>0</td>\n",
       "      <td>0</td>\n",
       "      <td>0</td>\n",
       "      <td>0</td>\n",
       "      <td>0</td>\n",
       "      <td>0</td>\n",
       "      <td>0</td>\n",
       "      <td>0</td>\n",
       "      <td>0</td>\n",
       "      <td>0</td>\n",
       "      <td>0</td>\n",
       "      <td>0</td>\n",
       "      <td>0</td>\n",
       "    </tr>\n",
       "  </tbody>\n",
       "</table>\n",
       "</div>"
      ],
      "text/plain": [
       "   Animation  Comedy  Children  Drama  Adventure  (no genres listed)  \\\n",
       "0          1       1         1      0          1                   0   \n",
       "1          0       0         1      0          1                   0   \n",
       "2          0       1         0      0          0                   0   \n",
       "3          0       1         0      1          0                   0   \n",
       "4          0       1         0      0          0                   0   \n",
       "\n",
       "   Documentary  Crime  Horror  Musical  Sci-Fi  IMAX  Romance  Film-Noir  \\\n",
       "0            0      0       0        0       0     0        0          0   \n",
       "1            0      0       0        0       0     0        0          0   \n",
       "2            0      0       0        0       0     0        1          0   \n",
       "3            0      0       0        0       0     0        1          0   \n",
       "4            0      0       0        0       0     0        0          0   \n",
       "\n",
       "   Fantasy  Action  Western  War  Thriller  Mystery  \n",
       "0        1       0        0    0         0        0  \n",
       "1        1       0        0    0         0        0  \n",
       "2        0       0        0    0         0        0  \n",
       "3        0       0        0    0         0        0  \n",
       "4        0       0        0    0         0        0  "
      ]
     },
     "execution_count": 105,
     "metadata": {},
     "output_type": "execute_result"
    }
   ],
   "source": [
    "movie_genres.head()"
   ]
  },
  {
   "cell_type": "code",
   "execution_count": null,
   "id": "eddff62f-1d2c-4b65-89c0-34cc4950c38f",
   "metadata": {},
   "outputs": [],
   "source": [
    "from sklearn.metrics.pairwise import cosine_similarity"
   ]
  },
  {
   "cell_type": "code",
   "execution_count": null,
   "id": "0f22b4da-fd2f-4fd2-9d69-18c6382567fb",
   "metadata": {},
   "outputs": [
    {
     "ename": "MemoryError",
     "evalue": "Unable to allocate 29.0 GiB for an array with shape (62423, 62423) and data type float64",
     "output_type": "error",
     "traceback": [
      "\u001b[1;31m---------------------------------------------------------------------------\u001b[0m",
      "\u001b[1;31mMemoryError\u001b[0m                               Traceback (most recent call last)",
      "File \u001b[1;32md:\\Code\\ML\\data_science\\dataquest\\movie_recommendation\\recommender.py:1\u001b[0m\n\u001b[1;32m----> 1\u001b[0m cosine_sim \u001b[39m=\u001b[39m cosine_similarity(movie_genres, movie_genres)\n",
      "File \u001b[1;32mc:\\Users\\Luee\\anaconda3\\Lib\\site-packages\\sklearn\\metrics\\pairwise.py:1401\u001b[0m, in \u001b[0;36mcosine_similarity\u001b[1;34m(X, Y, dense_output)\u001b[0m\n\u001b[0;32m   1398\u001b[0m \u001b[39melse\u001b[39;00m:\n\u001b[0;32m   1399\u001b[0m     Y_normalized \u001b[39m=\u001b[39m normalize(Y, copy\u001b[39m=\u001b[39m\u001b[39mTrue\u001b[39;00m)\n\u001b[1;32m-> 1401\u001b[0m K \u001b[39m=\u001b[39m safe_sparse_dot(X_normalized, Y_normalized\u001b[39m.\u001b[39mT, dense_output\u001b[39m=\u001b[39mdense_output)\n\u001b[0;32m   1403\u001b[0m \u001b[39mreturn\u001b[39;00m K\n",
      "File \u001b[1;32mc:\\Users\\Luee\\anaconda3\\Lib\\site-packages\\sklearn\\utils\\extmath.py:189\u001b[0m, in \u001b[0;36msafe_sparse_dot\u001b[1;34m(a, b, dense_output)\u001b[0m\n\u001b[0;32m    187\u001b[0m         ret \u001b[39m=\u001b[39m np\u001b[39m.\u001b[39mdot(a, b)\n\u001b[0;32m    188\u001b[0m \u001b[39melse\u001b[39;00m:\n\u001b[1;32m--> 189\u001b[0m     ret \u001b[39m=\u001b[39m a \u001b[39m@\u001b[39m b\n\u001b[0;32m    191\u001b[0m \u001b[39mif\u001b[39;00m (\n\u001b[0;32m    192\u001b[0m     sparse\u001b[39m.\u001b[39missparse(a)\n\u001b[0;32m    193\u001b[0m     \u001b[39mand\u001b[39;00m sparse\u001b[39m.\u001b[39missparse(b)\n\u001b[0;32m    194\u001b[0m     \u001b[39mand\u001b[39;00m dense_output\n\u001b[0;32m    195\u001b[0m     \u001b[39mand\u001b[39;00m \u001b[39mhasattr\u001b[39m(ret, \u001b[39m\"\u001b[39m\u001b[39mtoarray\u001b[39m\u001b[39m\"\u001b[39m)\n\u001b[0;32m    196\u001b[0m ):\n\u001b[0;32m    197\u001b[0m     \u001b[39mreturn\u001b[39;00m ret\u001b[39m.\u001b[39mtoarray()\n",
      "\u001b[1;31mMemoryError\u001b[0m: Unable to allocate 29.0 GiB for an array with shape (62423, 62423) and data type float64"
     ]
    }
   ],
   "source": [
    "cosine_sim = cosine_similarity(movie_genres, movie_genres)"
   ]
  },
  {
   "cell_type": "code",
   "execution_count": null,
   "id": "d507dd8d-b1fc-40e3-b2db-13378ef9cafe",
   "metadata": {},
   "outputs": [],
   "source": [
    "# Creating a movie finder function"
   ]
  },
  {
   "cell_type": "code",
   "execution_count": null,
   "id": "ceac7503-c313-4bd0-a2b4-110ebe62c2a6",
   "metadata": {},
   "outputs": [
    {
     "name": "stderr",
     "output_type": "stream",
     "text": [
      "c:\\Users\\Luee\\anaconda3\\Lib\\site-packages\\fuzzywuzzy\\fuzz.py:11: UserWarning: Using slow pure-python SequenceMatcher. Install python-Levenshtein to remove this warning\n",
      "  warnings.warn('Using slow pure-python SequenceMatcher. Install python-Levenshtein to remove this warning')\n"
     ]
    }
   ],
   "source": [
    "from fuzzywuzzy import process"
   ]
  },
  {
   "cell_type": "code",
   "execution_count": null,
   "id": "aae7e47b-3ce1-4d2a-b982-fc3698b35175",
   "metadata": {},
   "outputs": [],
   "source": [
    "def movie_finder(title):\n",
    "    all_titles = movies[\"title\"].tolist()\n",
    "    closest_match = process.extractOne(title, all_titles)\n",
    "    return closest_match[0]"
   ]
  },
  {
   "cell_type": "code",
   "execution_count": null,
   "id": "178f99fb-accb-42fc-afbc-c9d84eb7afab",
   "metadata": {},
   "outputs": [],
   "source": [
    "title = movie_finder(\"Juminji\")"
   ]
  }
 ],
 "metadata": {
  "kernelspec": {
   "display_name": "Python 3 (ipykernel)",
   "language": "python",
   "name": "python3"
  },
  "language_info": {
   "codemirror_mode": {
    "name": "ipython",
    "version": 3
   },
   "file_extension": ".py",
   "mimetype": "text/x-python",
   "name": "python",
   "nbconvert_exporter": "python",
   "pygments_lexer": "ipython3",
   "version": "3.11.5"
  }
 },
 "nbformat": 4,
 "nbformat_minor": 2
}
